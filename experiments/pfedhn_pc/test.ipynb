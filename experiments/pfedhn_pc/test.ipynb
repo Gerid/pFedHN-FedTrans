{
 "cells": [
  {
   "cell_type": "code",
   "execution_count": 34,
   "metadata": {},
   "outputs": [],
   "source": [
    "import argparse\n",
    "import json\n",
    "import logging\n",
    "import random\n",
    "from collections import defaultdict, OrderedDict\n",
    "from pathlib import Path\n",
    "\n",
    "import numpy as np\n",
    "import torch\n",
    "import torch.utils.data\n",
    "from experiments.pfedhn_pc.utils import get_average_model, weighted_aggregate_model\n",
    "# from tqdm import trange\n",
    "\n",
    "from experiments.pfedhn_pc.models import CNNHyperPC, CNNTargetPC, CNNTargetPC_M, LocalLayer\n",
    "from experiments.pfedhn_pc.node import BaseNodesForLocal, BaseNodesForLocals_M\n",
    "from experiments.utils import get_device, set_logger, set_seed, str2bool\n",
    "\n",
    "import copy\n",
    "from model import *"
   ]
  },
  {
   "cell_type": "code",
   "execution_count": 30,
   "metadata": {},
   "outputs": [],
   "source": [
    "device = torch.device(\"cuda\" if torch.cuda.is_available() else \"cpu\")"
   ]
  },
  {
   "cell_type": "code",
   "execution_count": null,
   "metadata": {},
   "outputs": [],
   "source": []
  },
  {
   "cell_type": "code",
   "execution_count": 31,
   "metadata": {},
   "outputs": [],
   "source": [
    "data_name = 'cifar10'\n",
    "\n",
    "if data_name == 'cifar10':\n",
    "    classes_per_node = 2\n",
    "else:\n",
    "    classes_per_node = 10\n",
    "\n",
    "data_path = 'data'\n",
    "num_nodes = 50\n",
    "num_steps = 5000\n",
    "inner_steps = 50\n",
    "optim = 'sgd'\n",
    "lr = 5e-2\n",
    "inner_lr = 5e-3 \n",
    "embed_lr = None\n",
    "wd = 1e-3\n",
    "inner_wd = 5e-5\n",
    "embed_dim = -1\n",
    "batch_size = 64\n",
    "eval_every = 30\n",
    "save_path = \"pfedhn_pc_cifar_res\"\n"
   ]
  },
  {
   "cell_type": "code",
   "execution_count": 39,
   "metadata": {},
   "outputs": [
    {
     "ename": "NameError",
     "evalue": "name 'bs' is not defined",
     "output_type": "error",
     "traceback": [
      "\u001b[1;31m---------------------------------------------------------------------------\u001b[0m",
      "\u001b[1;31mNameError\u001b[0m                                 Traceback (most recent call last)",
      "\u001b[1;32m~\\AppData\\Local\\Temp/ipykernel_317040/1441015290.py\u001b[0m in \u001b[0;36m<module>\u001b[1;34m\u001b[0m\n\u001b[0;32m      7\u001b[0m     \u001b[0mbase_optimizer\u001b[0m\u001b[1;33m=\u001b[0m\u001b[0mtorch\u001b[0m\u001b[1;33m.\u001b[0m\u001b[0moptim\u001b[0m\u001b[1;33m.\u001b[0m\u001b[0mSGD\u001b[0m\u001b[1;33m,\u001b[0m \u001b[0moptimizer_config\u001b[0m\u001b[1;33m=\u001b[0m\u001b[0mdict\u001b[0m\u001b[1;33m(\u001b[0m\u001b[0mlr\u001b[0m\u001b[1;33m=\u001b[0m\u001b[0minner_lr\u001b[0m\u001b[1;33m,\u001b[0m \u001b[0mmomentum\u001b[0m\u001b[1;33m=\u001b[0m\u001b[1;36m.9\u001b[0m\u001b[1;33m,\u001b[0m \u001b[0mweight_decay\u001b[0m\u001b[1;33m=\u001b[0m\u001b[0minner_wd\u001b[0m\u001b[1;33m)\u001b[0m\u001b[1;33m,\u001b[0m\u001b[1;33m\u001b[0m\u001b[1;33m\u001b[0m\u001b[0m\n\u001b[0;32m      8\u001b[0m     \u001b[0mdevice\u001b[0m\u001b[1;33m=\u001b[0m\u001b[0mdevice\u001b[0m\u001b[1;33m,\u001b[0m\u001b[1;33m\u001b[0m\u001b[1;33m\u001b[0m\u001b[0m\n\u001b[1;32m----> 9\u001b[1;33m     \u001b[0mbatch_size\u001b[0m\u001b[1;33m=\u001b[0m\u001b[0mbs\u001b[0m\u001b[1;33m,\u001b[0m\u001b[1;33m\u001b[0m\u001b[1;33m\u001b[0m\u001b[0m\n\u001b[0m\u001b[0;32m     10\u001b[0m     \u001b[0mclasses_per_node\u001b[0m\u001b[1;33m=\u001b[0m\u001b[0mclasses_per_node\u001b[0m\u001b[1;33m,\u001b[0m\u001b[1;33m\u001b[0m\u001b[1;33m\u001b[0m\u001b[0m\n\u001b[0;32m     11\u001b[0m )\n",
      "\u001b[1;31mNameError\u001b[0m: name 'bs' is not defined"
     ]
    }
   ],
   "source": [
    "\n",
    "nodes = BaseNodesForLocal(\n",
    "    data_name=data_name,\n",
    "    data_path=data_path,\n",
    "    n_nodes=num_nodes,\n",
    "    base_layer=LocalLayer,\n",
    "    layer_config={'n_input': 84, 'n_output': 10 if data_name == 'cifar10' else 100},\n",
    "    base_optimizer=torch.optim.SGD, optimizer_config=dict(lr=inner_lr, momentum=.9, weight_decay=inner_wd),\n",
    "    device=device,\n",
    "    batch_size=batch_size,\n",
    "    classes_per_node=classes_per_node,\n",
    ")"
   ]
  },
  {
   "cell_type": "code",
   "execution_count": 38,
   "metadata": {},
   "outputs": [
    {
     "ename": "TypeError",
     "evalue": "__init__() got an unexpected keyword argument 'n_input'",
     "output_type": "error",
     "traceback": [
      "\u001b[1;31m---------------------------------------------------------------------------\u001b[0m",
      "\u001b[1;31mTypeError\u001b[0m                                 Traceback (most recent call last)",
      "\u001b[1;32m~\\AppData\\Local\\Temp/ipykernel_317040/322373486.py\u001b[0m in \u001b[0;36m<module>\u001b[1;34m\u001b[0m\n\u001b[0;32m      8\u001b[0m     \u001b[0mdevice\u001b[0m\u001b[1;33m=\u001b[0m\u001b[0mdevice\u001b[0m\u001b[1;33m,\u001b[0m\u001b[1;33m\u001b[0m\u001b[1;33m\u001b[0m\u001b[0m\n\u001b[0;32m      9\u001b[0m     \u001b[0mbatch_size\u001b[0m\u001b[1;33m=\u001b[0m\u001b[0mbatch_size\u001b[0m\u001b[1;33m,\u001b[0m\u001b[1;33m\u001b[0m\u001b[1;33m\u001b[0m\u001b[0m\n\u001b[1;32m---> 10\u001b[1;33m     \u001b[0mclasses_per_node\u001b[0m\u001b[1;33m=\u001b[0m\u001b[0mclasses_per_node\u001b[0m\u001b[1;33m,\u001b[0m\u001b[1;33m\u001b[0m\u001b[1;33m\u001b[0m\u001b[0m\n\u001b[0m\u001b[0;32m     11\u001b[0m )\n",
      "\u001b[1;32mc:\\users\\fang\\documents\\gitspace\\pfedhn-fedtrans\\experiments\\pfedhn_pc\\node.py\u001b[0m in \u001b[0;36m__init__\u001b[1;34m(self, data_name, data_path, n_nodes, base_layer, layer_config, base_optimizer, optimizer_config, device, batch_size, classes_per_node)\u001b[0m\n\u001b[0;32m     24\u001b[0m \u001b[1;33m\u001b[0m\u001b[0m\n\u001b[0;32m     25\u001b[0m         self.local_layers = [\n\u001b[1;32m---> 26\u001b[1;33m             \u001b[0mbase_layer\u001b[0m\u001b[1;33m(\u001b[0m\u001b[1;33m**\u001b[0m\u001b[0mlayer_config\u001b[0m\u001b[1;33m)\u001b[0m\u001b[1;33m.\u001b[0m\u001b[0mto\u001b[0m\u001b[1;33m(\u001b[0m\u001b[0mdevice\u001b[0m\u001b[1;33m)\u001b[0m \u001b[1;32mfor\u001b[0m \u001b[0m_\u001b[0m \u001b[1;32min\u001b[0m \u001b[0mrange\u001b[0m\u001b[1;33m(\u001b[0m\u001b[0mself\u001b[0m\u001b[1;33m.\u001b[0m\u001b[0mn_nodes\u001b[0m\u001b[1;33m)\u001b[0m\u001b[1;33m\u001b[0m\u001b[1;33m\u001b[0m\u001b[0m\n\u001b[0m\u001b[0;32m     27\u001b[0m         ]\n\u001b[0;32m     28\u001b[0m         self.local_optimizers = [\n",
      "\u001b[1;32mc:\\users\\fang\\documents\\gitspace\\pfedhn-fedtrans\\experiments\\pfedhn_pc\\node.py\u001b[0m in \u001b[0;36m<listcomp>\u001b[1;34m(.0)\u001b[0m\n\u001b[0;32m     24\u001b[0m \u001b[1;33m\u001b[0m\u001b[0m\n\u001b[0;32m     25\u001b[0m         self.local_layers = [\n\u001b[1;32m---> 26\u001b[1;33m             \u001b[0mbase_layer\u001b[0m\u001b[1;33m(\u001b[0m\u001b[1;33m**\u001b[0m\u001b[0mlayer_config\u001b[0m\u001b[1;33m)\u001b[0m\u001b[1;33m.\u001b[0m\u001b[0mto\u001b[0m\u001b[1;33m(\u001b[0m\u001b[0mdevice\u001b[0m\u001b[1;33m)\u001b[0m \u001b[1;32mfor\u001b[0m \u001b[0m_\u001b[0m \u001b[1;32min\u001b[0m \u001b[0mrange\u001b[0m\u001b[1;33m(\u001b[0m\u001b[0mself\u001b[0m\u001b[1;33m.\u001b[0m\u001b[0mn_nodes\u001b[0m\u001b[1;33m)\u001b[0m\u001b[1;33m\u001b[0m\u001b[1;33m\u001b[0m\u001b[0m\n\u001b[0m\u001b[0;32m     27\u001b[0m         ]\n\u001b[0;32m     28\u001b[0m         self.local_optimizers = [\n",
      "\u001b[1;31mTypeError\u001b[0m: __init__() got an unexpected keyword argument 'n_input'"
     ]
    }
   ],
   "source": [
    "\n",
    "nodes = BaseNodesForLocal(\n",
    "    data_name=data_name,\n",
    "    data_path=data_path,\n",
    "    n_nodes=num_nodes,\n",
    "    base_layer=CNNTargetPC_M,\n",
    "    layer_config={'n_input': 84, 'n_output': 10 if data_name == 'cifar10' else 100},\n",
    "    base_optimizer=torch.optim.SGD, optimizer_config=dict(lr=inner_lr, momentum=.9, weight_decay=inner_wd),\n",
    "    device=device,\n",
    "    batch_size=batch_size,\n",
    "    classes_per_node=classes_per_node,\n",
    ")"
   ]
  },
  {
   "cell_type": "code",
   "execution_count": null,
   "metadata": {},
   "outputs": [],
   "source": []
  },
  {
   "cell_type": "code",
   "execution_count": 19,
   "metadata": {},
   "outputs": [],
   "source": [
    "def eval_model(nodes, num_nodes, inet, net, criteria, device, split):\n",
    "    curr_results = evaluate(nodes, num_nodes, inet, net, criteria, device, split=split)\n",
    "    total_correct = sum([val['correct'] for val in curr_results.values()])\n",
    "    total_samples = sum([val['total'] for val in curr_results.values()])\n",
    "    avg_loss = np.mean([val['loss'] for val in curr_results.values()])\n",
    "    avg_acc = total_correct / total_samples\n",
    "\n",
    "    all_acc = [val['correct'] / val['total'] for val in curr_results.values()]\n",
    "\n",
    "    return curr_results, avg_loss, avg_acc, all_acc\n",
    "\n",
    "\n",
    "@torch.no_grad()\n",
    "def evaluate(nodes: BaseNodesForLocal, num_nodes, inet, net, criteria, device, split='test'):\n",
    "    inet.eval()\n",
    "    results = defaultdict(lambda: defaultdict(list))\n",
    "\n",
    "    for node_id in range(num_nodes):  # iterating over nodes\n",
    "\n",
    "        running_loss, running_correct, running_samples = 0., 0., 0.\n",
    "        if split == 'test':\n",
    "            curr_data = nodes.test_loaders[node_id]\n",
    "        elif split == 'val':\n",
    "            curr_data = nodes.val_loaders[node_id]\n",
    "        else:\n",
    "            curr_data = nodes.train_loaders[node_id]\n",
    "\n",
    "        weights = inet(torch.tensor([node_id], dtype=torch.long).to(device))\n",
    "        net.load_state_dict(weights)\n",
    "\n",
    "        for batch_count, batch in enumerate(curr_data):\n",
    "            img, label = tuple(t.to(device) for t in batch)\n",
    "            net_out = net(img)\n",
    "            pred = nodes.local_layers[node_id](net_out)\n",
    "            running_loss += criteria(pred, label).item()\n",
    "            running_correct += pred.argmax(1).eq(label).sum().item()\n",
    "            running_samples += len(label)\n",
    "\n",
    "        results[node_id]['loss'] = running_loss / (batch_count + 1)\n",
    "        results[node_id]['correct'] = running_correct\n",
    "        results[node_id]['total'] = running_samples\n",
    "\n",
    "    return results"
   ]
  },
  {
   "cell_type": "code",
   "execution_count": 20,
   "metadata": {},
   "outputs": [
    {
     "ename": "NameError",
     "evalue": "name 'a' is not defined",
     "output_type": "error",
     "traceback": [
      "\u001b[1;31m---------------------------------------------------------------------------\u001b[0m",
      "\u001b[1;31mNameError\u001b[0m                                 Traceback (most recent call last)",
      "\u001b[1;32m~\\AppData\\Local\\Temp/ipykernel_317040/240059899.py\u001b[0m in \u001b[0;36m<module>\u001b[1;34m\u001b[0m\n\u001b[1;32m----> 1\u001b[1;33m \u001b[0ma\u001b[0m\u001b[1;33m[\u001b[0m\u001b[1;36m1\u001b[0m\u001b[1;33m]\u001b[0m\u001b[1;33m\u001b[0m\u001b[1;33m\u001b[0m\u001b[0m\n\u001b[0m",
      "\u001b[1;31mNameError\u001b[0m: name 'a' is not defined"
     ]
    }
   ],
   "source": [
    "a[1]"
   ]
  },
  {
   "cell_type": "code",
   "execution_count": null,
   "metadata": {},
   "outputs": [],
   "source": []
  }
 ],
 "metadata": {
  "interpreter": {
   "hash": "293539041be06dcdbc1dd82d46367ecf96c14410c0014bf8043197a4a2571a26"
  },
  "kernelspec": {
   "display_name": "Python 3.8.11 ('d2l')",
   "language": "python",
   "name": "python3"
  },
  "language_info": {
   "codemirror_mode": {
    "name": "ipython",
    "version": 3
   },
   "file_extension": ".py",
   "mimetype": "text/x-python",
   "name": "python",
   "nbconvert_exporter": "python",
   "pygments_lexer": "ipython3",
   "version": "3.7.11"
  },
  "orig_nbformat": 4
 },
 "nbformat": 4,
 "nbformat_minor": 2
}
